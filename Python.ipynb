{
 "cells": [
  {
   "cell_type": "code",
   "execution_count": 77,
   "id": "0b3d32e9-81a3-41f0-8fe1-399f2e7f7da7",
   "metadata": {},
   "outputs": [],
   "source": [
    "## NOTE: https://www.thetransportpolitic.com/transitexplorer/#6/38.625/-78.673\n",
    "##https://python-overpy.readthedocs.io/en/latest/example.html\n",
    "###Preliminary install Code\n",
    "\n",
    "#conda install -c conda-forge overpy\n",
    "\n",
    "###Running\n",
    "##import overpy\n"
   ]
  },
  {
   "cell_type": "code",
   "execution_count": 78,
   "id": "8fa8abeb-5e62-42f9-9728-7f25b610a8c4",
   "metadata": {},
   "outputs": [],
   "source": [
    "#api = overpy.Overpass()\n",
    "\n",
    "####Note just moved to get and request because easier to implement\n",
    "\n",
    "import requests\n",
    "import json\n",
    "\n",
    "####Look to bottom for Start Here"
   ]
  },
  {
   "cell_type": "code",
   "execution_count": 117,
   "id": "9fd215fd-ebd6-4d97-8da6-16c9dbcb37b3",
   "metadata": {},
   "outputs": [
    {
     "name": "stdout",
     "output_type": "stream",
     "text": [
      "way[\"poly\"=\"38.511, -77.811, 39.711, -76.111\"];out;\n"
     ]
    }
   ],
   "source": [
    "railway_types=[\n",
    "'rail',\n",
    "'subway',\n",
    "'light_rail',#Full-sized passenger or freight trains in the standard gauge for the country or state. See also Key:usage to properly distinguish between, for example, usage=main, usage=branch and usage=industrial. (Also, usage=tourism and usage=military).\n",
    "\"tram\", #subway - A large city- to suburban-scale passenger rail service running mostly grade separated (see Wikipedia:rapid transit), often fully and at least partially underground. Overlaps somewhat with \"metro\" (passenger rail) and/or \"rapid transit.\"\n",
    "\"narrow_gauge\",\n",
    "\"monorail\",\n",
    "\"miniature\",\n",
    "\"funicular\"]\n",
    "\n",
    "#for i in railway_types[0:1]:\n",
    "#    print(i)\n",
    "\n",
    "bound_box1='''way[\"poly\"=\"38.511, -77.811, 39.711, -76.111\"];'''\n",
    "\n",
    "for i in railway_types[3:4]:\n",
    "    way1 = '''way[\"railway\"=\"'''+i+'''\"];'''\n",
    "\n",
    "closing=\"out;\"\n",
    "\n",
    "query1=bound_box1+closing\n",
    "print(query1)"
   ]
  },
  {
   "cell_type": "code",
   "execution_count": 118,
   "id": "cc7e4d79-0369-4789-be51-f7cdce4788cd",
   "metadata": {},
   "outputs": [],
   "source": [
    "result = api.query(query1)"
   ]
  },
  {
   "cell_type": "code",
   "execution_count": null,
   "id": "f29fab08-cd57-48b1-8cf4-7995f64e9528",
   "metadata": {},
   "outputs": [],
   "source": []
  },
  {
   "cell_type": "code",
   "execution_count": 119,
   "id": "4a02e9ac-83a1-48b1-8711-f22d2405a8bf",
   "metadata": {},
   "outputs": [
    {
     "data": {
      "text/plain": [
       "<overpy.Result at 0x10e8e8a90>"
      ]
     },
     "execution_count": 119,
     "metadata": {},
     "output_type": "execute_result"
    }
   ],
   "source": [
    "result"
   ]
  },
  {
   "cell_type": "code",
   "execution_count": 120,
   "id": "5d96d88c-ec61-48d4-bf78-e5887e360819",
   "metadata": {},
   "outputs": [
    {
     "data": {
      "text/plain": [
       "0"
      ]
     },
     "execution_count": 120,
     "metadata": {},
     "output_type": "execute_result"
    }
   ],
   "source": []
  },
  {
   "cell_type": "code",
   "execution_count": 121,
   "id": "ed1a8015-a132-4637-942d-5370834460c3",
   "metadata": {},
   "outputs": [
    {
     "data": {
      "text/plain": [
       "0"
      ]
     },
     "execution_count": 121,
     "metadata": {},
     "output_type": "execute_result"
    }
   ],
   "source": []
  },
  {
   "cell_type": "code",
   "execution_count": 122,
   "id": "1d22af7a-dc5a-4697-a943-2dd1934b66b3",
   "metadata": {},
   "outputs": [
    {
     "data": {
      "text/plain": [
       "0"
      ]
     },
     "execution_count": 122,
     "metadata": {},
     "output_type": "execute_result"
    }
   ],
   "source": []
  },
  {
   "cell_type": "code",
   "execution_count": 123,
   "id": "958712b4-8fc9-46de-9b54-d9d338e66069",
   "metadata": {},
   "outputs": [
    {
     "data": {
      "text/plain": [
       "[]"
      ]
     },
     "execution_count": 123,
     "metadata": {},
     "output_type": "execute_result"
    }
   ],
   "source": [
    "result.ways"
   ]
  },
  {
   "cell_type": "code",
   "execution_count": 124,
   "id": "40e41359-05e5-4ead-a050-0c88dad8fef6",
   "metadata": {},
   "outputs": [],
   "source": [
    "####Start Here\n",
    "\n",
    "import requests\n",
    "import json\n"
   ]
  },
  {
   "cell_type": "code",
   "execution_count": 147,
   "id": "f3740b34-8308-454b-9cca-467e4d626bcf",
   "metadata": {},
   "outputs": [
    {
     "data": {
      "text/plain": [
       "'\\n[out:json];\\n(node[\"railway\"=\"subway\"](38.511, -77.811, 39.711, -76.111);\\n way[\"railway\"=\"subway\"](38.511, -77.811, 39.711, -76.111);\\n rel[\"railway\"=\"subway\"](38.511, -77.811, 39.711, -76.111);\\n);\\nout center;\\n'"
      ]
     },
     "execution_count": 147,
     "metadata": {},
     "output_type": "execute_result"
    }
   ],
   "source": [
    "overpass_url = \"http://overpass-api.de/api/interpreter\"\n",
    "overpass_query = \"\"\"\n",
    "[out:json];\n",
    "(node[\"railway\"=\"{0}\"](38.511, -77.811, 39.711, -76.111);\n",
    " way[\"railway\"=\"{0}\"](38.511, -77.811, 39.711, -76.111);\n",
    " rel[\"railway\"=\"{0}\"](38.511, -77.811, 39.711, -76.111);\n",
    ");\n",
    "out center;\n",
    "\"\"\".format(railway_types[1])\n",
    "\n",
    "overpass_query "
   ]
  },
  {
   "cell_type": "code",
   "execution_count": 148,
   "id": "4304f77c-16c9-44dc-9b11-4ff3fdcbec33",
   "metadata": {},
   "outputs": [],
   "source": [
    "response = requests.get(overpass_url, \n",
    "                        params={'data': overpass_query})\n",
    "data = response.json()\n",
    "#data"
   ]
  },
  {
   "cell_type": "code",
   "execution_count": 149,
   "id": "81659ee4-525c-4a97-bdec-31ed339b0e64",
   "metadata": {},
   "outputs": [
    {
     "data": {
      "image/png": "[encoded data removed]",
      "text/plain": [
       "<Figure size 432x288 with 1 Axes>"
      ]
     },
     "metadata": {
      "needs_background": "light"
     },
     "output_type": "display_data"
    }
   ],
   "source": [
    "import numpy as np\n",
    "import matplotlib.pyplot as plt\n",
    "\n",
    "# Collect coords into list\n",
    "coords = []\n",
    "for element in data['elements']:\n",
    "  if element['type'] == 'node':\n",
    "    lon = element['lon']\n",
    "    lat = element['lat']\n",
    "    coords.append((lon, lat))\n",
    "  elif 'center' in element:\n",
    "    lon = element['center']['lon']\n",
    "    lat = element['center']['lat']\n",
    "    coords.append((lon, lat))\n",
    "\n",
    "# Convert coordinates into numpy array\n",
    "X = np.array(coords)\n",
    "\n",
    "plt.plot(X[:, 0], X[:, 1], 'o')\n",
    "plt.title('DC Area rail map')\n",
    "plt.xlabel('Longitude')\n",
    "plt.ylabel('Latitude')\n",
    "plt.axis('equal')\n",
    "plt.show()"
   ]
  },
  {
   "cell_type": "code",
   "execution_count": null,
   "id": "147b68d6-b6b8-4617-a1ee-f7ff865e2396",
   "metadata": {},
   "outputs": [],
   "source": []
  }
 ],
 "metadata": {
  "kernelspec": {
   "display_name": "Python 3",
   "language": "python",
   "name": "python3"
  },
  "language_info": {
   "codemirror_mode": {
    "name": "ipython",
    "version": 3
   },
   "file_extension": ".py",
   "mimetype": "text/x-python",
   "name": "python",
   "nbconvert_exporter": "python",
   "pygments_lexer": "ipython3",
   "version": "3.8.2"
  }
 },
 "nbformat": 4,
 "nbformat_minor": 5
}
